{
 "cells": [
  {
   "cell_type": "markdown",
   "metadata": {},
   "source": [
    "# Interface de Python para Tcl/Tk\n",
    "[Documentación oficial](https://docs.python.org/es/3/library/tkinter.html)\n",
    "\n",
    "El paquete **tkinter** (interfaz Tk) es la interfaz por defecto de Python para el kit de herramientas de GUI Tk. Tanto Tk como tkinter están disponibles en la mayoría de las plataformas Unix, así como en sistemas Windows (Tk en sí no es parte de Python, es mantenido por ActiveState).\n",
    "\n",
    "Este workshop está basado en este [tutorial](https://www.pythontutorial.net/tkinter/)\n",
    "\n",
    "## Verificar\n",
    "```bash\n",
    "python -m tkinter\n",
    "```"
   ]
  },
  {
   "cell_type": "code",
   "execution_count": null,
   "metadata": {},
   "outputs": [],
   "source": [
    "import tkinter as tk"
   ]
  },
  {
   "cell_type": "markdown",
   "metadata": {},
   "source": [
    "Crear una nueva ventana"
   ]
  },
  {
   "cell_type": "code",
   "execution_count": null,
   "metadata": {},
   "outputs": [],
   "source": [
    "root = tk.Tk()\n",
    "\n",
    "# place a label on the root window\n",
    "message = tk.Label(root, text=\"Hello, World!\")\n",
    "message.pack()\n",
    "\n",
    "root.mainloop()"
   ]
  },
  {
   "cell_type": "markdown",
   "metadata": {},
   "source": [
    "Tamaño de pantalla"
   ]
  },
  {
   "cell_type": "markdown",
   "metadata": {},
   "source": [
    "![tkinter geometry](https://www.pythontutorial.net/wp-content/uploads/2021/01/Tkinter-Window-Geometry.png)"
   ]
  },
  {
   "cell_type": "code",
   "execution_count": null,
   "metadata": {},
   "outputs": [],
   "source": [
    "root = tk.Tk()\n",
    "root.title('Tkinter Window Demo - Geometry')\n",
    "\n",
    "# Cambio de tamaño y posición\n",
    "root.geometry('600x400+50+50')\n",
    "\n",
    "# Posibilidad de cambiar el tamaño\n",
    "root.resizable(False, False)\n",
    "\n",
    "# place a label on the root window\n",
    "message = tk.Label(root, text=\"Hello, World!\")\n",
    "message.pack()\n",
    "\n",
    "root.mainloop()"
   ]
  },
  {
   "cell_type": "markdown",
   "metadata": {},
   "source": [
    "Transparencia"
   ]
  },
  {
   "cell_type": "code",
   "execution_count": null,
   "metadata": {},
   "outputs": [],
   "source": [
    "root = tk.Tk()\n",
    "root.title('Tkinter Window Demo - Transparency')\n",
    "\n",
    "# Cambio de tamaño y posición\n",
    "root.geometry('600x400+50+50')\n",
    "\n",
    "# Transparencia\n",
    "root.attributes('-alpha', 0.5)\n",
    "\n",
    "# place a label on the root window\n",
    "message = tk.Label(root, text=\"Hello, World!\")\n",
    "message.pack()\n",
    "\n",
    "root.mainloop()"
   ]
  },
  {
   "cell_type": "markdown",
   "metadata": {},
   "source": [
    "Centrar la ventana en la pantalla"
   ]
  },
  {
   "cell_type": "code",
   "execution_count": null,
   "metadata": {},
   "outputs": [],
   "source": [
    "root = tk.Tk()\n",
    "root.title('Tkinter Window Demo - Center')\n",
    "\n",
    "# Tamaño de la ventana\n",
    "window_width = 500\n",
    "window_height = 200\n",
    "\n",
    "# Tamaño de pantalla\n",
    "screen_width = root.winfo_screenwidth()\n",
    "screen_height = root.winfo_screenheight()\n",
    "\n",
    "# find the center point\n",
    "center_x = int(screen_width/2 - window_width / 2)\n",
    "center_y = int(screen_height/2 - window_height / 2)\n",
    "\n",
    "# Cambio de tamaño y posición\n",
    "root.geometry(f'{window_width}x{window_height}+{center_x}+{center_y}')\n",
    "\n",
    "# place a label on the root window\n",
    "message = tk.Label(root, text=\"Hello, World!\")\n",
    "message.pack()\n",
    "\n",
    "root.mainloop()"
   ]
  },
  {
   "cell_type": "markdown",
   "metadata": {},
   "source": [
    "## Widgets\n",
    "Tk themed widgets"
   ]
  },
  {
   "cell_type": "code",
   "execution_count": null,
   "metadata": {},
   "outputs": [],
   "source": [
    "from tkinter import ttk"
   ]
  },
  {
   "cell_type": "markdown",
   "metadata": {},
   "source": [
    "- **[Label](https://www.pythontutorial.net/tkinter/tkinter-label/)**: Etiquetas "
   ]
  },
  {
   "cell_type": "code",
   "execution_count": 20,
   "metadata": {},
   "outputs": [],
   "source": [
    "root = tk.Tk()\n",
    "root.title('Tkinter Window Demo - Label')\n",
    "root.geometry(\"500x150\")\n",
    "\n",
    "# place a label on the root window\n",
    "message = ttk.Label(root, text=\"Hello, World!\")\n",
    "message.pack()\n",
    "\n",
    "message2 = ttk.Label(root)\n",
    "message2[\"text\"] = \"Hi, there\"\n",
    "message2.pack()\n",
    "\n",
    "message3 = ttk.Label(root)\n",
    "message3.config(text='Hello folks')\n",
    "message3.pack()\n",
    "\n",
    "root.mainloop()"
   ]
  },
  {
   "cell_type": "markdown",
   "metadata": {},
   "source": [
    "- **[Button](https://www.pythontutorial.net/tkinter/tkinter-button/)**: Botones\n",
    "  - [command binding](https://www.pythontutorial.net/tkinter/tkinter-command/)\n",
    "  - [event binding](https://www.pythontutorial.net/tkinter/tkinter-event-binding/)"
   ]
  },
  {
   "cell_type": "code",
   "execution_count": 24,
   "metadata": {},
   "outputs": [
    {
     "name": "stdout",
     "output_type": "stream",
     "text": [
      "Button clicked\n",
      "Return key pressed.\n",
      "Return key pressed.\n"
     ]
    }
   ],
   "source": [
    "root = tk.Tk()\n",
    "root.title('Tkinter Window Demo - Button')\n",
    "root.geometry(\"500x150\")\n",
    "\n",
    "def button_clicked():\n",
    "    print('Button clicked')\n",
    "\n",
    "def return_pressed(event):\n",
    "    print('Return key pressed.')\n",
    "\n",
    "button = ttk.Button(root, text='Click Me', command=button_clicked)\n",
    "button.bind('<Return>', return_pressed)\n",
    "button.pack()\n",
    "\n",
    "root.mainloop()"
   ]
  },
  {
   "cell_type": "markdown",
   "metadata": {},
   "source": [
    "- **[Entry](https://www.pythontutorial.net/tkinter/tkinter-entry/)**: Campos de texto"
   ]
  },
  {
   "cell_type": "code",
   "execution_count": 23,
   "metadata": {},
   "outputs": [],
   "source": [
    "from tkinter.messagebox import showinfo\n",
    "\n",
    "# root window\n",
    "root = tk.Tk()\n",
    "root.geometry(\"300x150\")\n",
    "root.resizable(False, False)\n",
    "root.title('Sign In')\n",
    "\n",
    "# store email address and password\n",
    "email = tk.StringVar()\n",
    "password = tk.StringVar()\n",
    "\n",
    "\n",
    "def login_clicked():\n",
    "    \"\"\" callback when the login button clicked\n",
    "    \"\"\"\n",
    "    msg = f'You entered email: {email.get()} and password: {password.get()}'\n",
    "    showinfo(\n",
    "        title='Information',\n",
    "        message=msg\n",
    "    )\n",
    "\n",
    "\n",
    "# Sign in frame\n",
    "signin = ttk.Frame(root)\n",
    "signin.pack(padx=10, pady=10, fill='x', expand=True)\n",
    "\n",
    "\n",
    "# email\n",
    "email_label = ttk.Label(signin, text=\"Email Address:\")\n",
    "email_label.pack(fill='x', expand=True)\n",
    "\n",
    "email_entry = ttk.Entry(signin, textvariable=email)\n",
    "email_entry.pack(fill='x', expand=True)\n",
    "email_entry.focus()\n",
    "\n",
    "# password\n",
    "password_label = ttk.Label(signin, text=\"Password:\")\n",
    "password_label.pack(fill='x', expand=True)\n",
    "\n",
    "password_entry = ttk.Entry(signin, textvariable=password, show=\"*\")\n",
    "password_entry.pack(fill='x', expand=True)\n",
    "\n",
    "# login button\n",
    "login_button = ttk.Button(signin, text=\"Login\", command=login_clicked)\n",
    "login_button.pack(fill='x', expand=True, pady=10)\n",
    "\n",
    "root.mainloop()"
   ]
  },
  {
   "cell_type": "markdown",
   "metadata": {},
   "source": [
    "Otros widgets\n",
    "- [Frame](https://www.pythontutorial.net/tkinter/tkinter-frame/)\n",
    "- [Text](https://www.pythontutorial.net/tkinter/tkinter-text/)\n",
    "- [Scrollbar](https://www.pythontutorial.net/tkinter/tkinter-scrollbar/)\n",
    "- [ScrolledText](https://www.pythontutorial.net/tkinter/tkinter-scrolledtext/)\n",
    "- [Separator](https://www.pythontutorial.net/tkinter/tkinter-separator/)\n",
    "- [Checkbox](https://www.pythontutorial.net/tkinter/tkinter-checkbox/)\n",
    "- [RadioButton](https://www.pythontutorial.net/tkinter/tkinter-radio-button/)\n",
    "- [Combobox](https://www.pythontutorial.net/tkinter/tkinter-combobox/)\n",
    "- [Listbox](https://www.pythontutorial.net/tkinter/tkinter-listbox/)\n",
    "- [Slider](https://www.pythontutorial.net/tkinter/tkinter-slider/)\n",
    "- [Spinbox](https://www.pythontutorial.net/tkinter/tkinter-spinbox/)\n",
    "- [Sizegrip](https://www.pythontutorial.net/tkinter/tkinter-sizegrip/)\n",
    "- [LabelFrame](https://www.pythontutorial.net/tkinter/tkinter-labelframe/)\n",
    "- [Progressbar](https://www.pythontutorial.net/tkinter/tkinter-progressbar/)\n",
    "- [Notebook](https://www.pythontutorial.net/tkinter/tkinter-notebook/)\n",
    "- [Treeview](https://www.pythontutorial.net/tkinter/tkinter-treeview/)"
   ]
  },
  {
   "cell_type": "markdown",
   "metadata": {},
   "source": [
    "## Gestores de geometría"
   ]
  },
  {
   "cell_type": "markdown",
   "metadata": {},
   "source": [
    "- [Pack](https://www.pythontutorial.net/tkinter/tkinter-pack/)"
   ]
  },
  {
   "cell_type": "code",
   "execution_count": 28,
   "metadata": {},
   "outputs": [],
   "source": [
    "root = tk.Tk()\n",
    "root.title('Pack Demo')\n",
    "root.geometry(\"300x200\")\n",
    "\n",
    "# place widgets top down\n",
    "label1 = tk.Label(\n",
    "    root,\n",
    "    text='Box 1',\n",
    "    bg=\"red\",\n",
    "    fg=\"white\"\n",
    ")\n",
    "\n",
    "label1.pack(\n",
    "    ipadx=10,\n",
    "    ipady=10,\n",
    "    fill='x'\n",
    ")\n",
    "\n",
    "label2 = tk.Label(\n",
    "    root,\n",
    "    text='Box 2',\n",
    "    bg=\"green\",\n",
    "    fg=\"white\"\n",
    ")\n",
    "label2.pack(\n",
    "    ipadx=10,\n",
    "    ipady=10,\n",
    "    fill='x'\n",
    ")\n",
    "\n",
    "label3 = tk.Label(\n",
    "    root,\n",
    "    text='Box 3',\n",
    "    bg=\"blue\",\n",
    "    fg=\"white\"\n",
    ")\n",
    "\n",
    "label3.pack(\n",
    "    ipadx=10,\n",
    "    ipady=10,\n",
    "    fill='x'\n",
    ")\n",
    "\n",
    "# place widgets side by side\n",
    "\n",
    "label4 = tk.Label(\n",
    "    root,\n",
    "    text='Left',\n",
    "    bg=\"cyan\",\n",
    "    fg=\"black\"\n",
    ")\n",
    "\n",
    "label4.pack(\n",
    "    ipadx=10,\n",
    "    ipady=10,\n",
    "    expand=True,\n",
    "    fill='both',\n",
    "    side='left'\n",
    ")\n",
    "\n",
    "label5 = tk.Label(\n",
    "    root,\n",
    "    text='Center',\n",
    "    bg=\"magenta\",\n",
    "    fg=\"black\"\n",
    ")\n",
    "label5.pack(\n",
    "    ipadx=10,\n",
    "    ipady=10,\n",
    "    expand=True,\n",
    "    fill='both',\n",
    "    side='left'\n",
    ")\n",
    "\n",
    "label6 = tk.Label(\n",
    "    root,\n",
    "    text='Right',\n",
    "    bg=\"yellow\",\n",
    "    fg=\"black\"\n",
    ")\n",
    "\n",
    "label6.pack(\n",
    "    ipadx=10,\n",
    "    ipady=10,\n",
    "    expand=True,\n",
    "    fill='both',\n",
    "    side='left'\n",
    ")\n",
    "\n",
    "root.mainloop()"
   ]
  },
  {
   "cell_type": "markdown",
   "metadata": {},
   "source": [
    "- [Grid](https://www.pythontutorial.net/tkinter/tkinter-grid/)\n",
    "\n",
    "![Grid](https://www.pythontutorial.net/wp-content/uploads/2021/01/Tkinter-grid-columnspan-rowspan.png)"
   ]
  },
  {
   "cell_type": "code",
   "execution_count": 27,
   "metadata": {},
   "outputs": [],
   "source": [
    "root = tk.Tk()\n",
    "root.geometry(\"240x100\")\n",
    "root.title('Login')\n",
    "root.resizable(0, 0)\n",
    "\n",
    "# configure the grid\n",
    "root.columnconfigure(0, weight=1)\n",
    "root.columnconfigure(1, weight=3)\n",
    "\n",
    "\n",
    "# username\n",
    "username_label = ttk.Label(root, text=\"Username:\")\n",
    "username_label.grid(column=0, row=0, sticky=tk.W, padx=5, pady=5)\n",
    "\n",
    "username_entry = ttk.Entry(root)\n",
    "username_entry.grid(column=1, row=0, sticky=tk.E, padx=5, pady=5)\n",
    "\n",
    "# password\n",
    "password_label = ttk.Label(root, text=\"Password:\")\n",
    "password_label.grid(column=0, row=1, sticky=tk.W, padx=5, pady=5)\n",
    "\n",
    "password_entry = ttk.Entry(root,  show=\"*\")\n",
    "password_entry.grid(column=1, row=1, sticky=tk.E, padx=5, pady=5)\n",
    "\n",
    "# login button\n",
    "login_button = ttk.Button(root, text=\"Login\")\n",
    "login_button.grid(column=1, row=3, sticky=tk.E, padx=5, pady=5)\n",
    "\n",
    "\n",
    "root.mainloop()"
   ]
  },
  {
   "cell_type": "markdown",
   "metadata": {},
   "source": [
    "- [Place](https://www.pythontutorial.net/tkinter/tkinter-place/)"
   ]
  },
  {
   "cell_type": "code",
   "execution_count": 26,
   "metadata": {},
   "outputs": [],
   "source": [
    "root = tk.Tk()\n",
    "root.title('Tkinter place Geometry Manager')\n",
    "\n",
    "# label 1\n",
    "label1 = tk.Label(\n",
    "    root,\n",
    "    text=\"Absolute placement\",\n",
    "    bg='red',\n",
    "    fg='white'\n",
    ")\n",
    "\n",
    "label1.place(x=20, y=10)\n",
    "\n",
    "# label 2\n",
    "label2 = tk.Label(\n",
    "    root,\n",
    "    text=\"Relative placement\",\n",
    "    bg='blue',\n",
    "    fg='white'\n",
    ")\n",
    "\n",
    "label2.place(relx=0.8, rely=0.2, relwidth=0.5, anchor='ne')\n",
    "\n",
    "root.mainloop()"
   ]
  },
  {
   "cell_type": "markdown",
   "metadata": {},
   "source": [
    "## Ejemplo"
   ]
  },
  {
   "cell_type": "code",
   "execution_count": 29,
   "metadata": {},
   "outputs": [],
   "source": [
    "import tkinter as tk\n",
    "from tkinter import ttk\n",
    "from tkinter.messagebox import showerror\n",
    "\n",
    "# root window\n",
    "root = tk.Tk()\n",
    "root.title('Temperature Converter')\n",
    "root.geometry('300x70')\n",
    "root.resizable(False, False)\n",
    "\n",
    "\n",
    "def fahrenheit_to_celsius(f):\n",
    "    \"\"\" Convert fahrenheit to celsius\n",
    "    \"\"\"\n",
    "    return (f - 32) * 5/9\n",
    "\n",
    "\n",
    "# frame\n",
    "frame = ttk.Frame(root)\n",
    "\n",
    "\n",
    "# field options\n",
    "options = {'padx': 5, 'pady': 5}\n",
    "\n",
    "# temperature label\n",
    "temperature_label = ttk.Label(frame, text='Fahrenheit')\n",
    "temperature_label.grid(column=0, row=0, sticky='W', **options)\n",
    "\n",
    "# temperature entry\n",
    "temperature = tk.StringVar()\n",
    "temperature_entry = ttk.Entry(frame, textvariable=temperature)\n",
    "temperature_entry.grid(column=1, row=0, **options)\n",
    "temperature_entry.focus()\n",
    "\n",
    "# convert button\n",
    "\n",
    "\n",
    "def convert_button_clicked():\n",
    "    \"\"\"  Handle convert button click event \n",
    "    \"\"\"\n",
    "    try:\n",
    "        f = float(temperature.get())\n",
    "        c = fahrenheit_to_celsius(f)\n",
    "        result = f'{f} Fahrenheit = {c:.2f} Celsius'\n",
    "        result_label.config(text=result)\n",
    "    except ValueError as error:\n",
    "        showerror(title='Error', message=error)\n",
    "\n",
    "\n",
    "convert_button = ttk.Button(frame, text='Convert')\n",
    "convert_button.grid(column=2, row=0, sticky='W', **options)\n",
    "convert_button.configure(command=convert_button_clicked)\n",
    "\n",
    "# result label\n",
    "result_label = ttk.Label(frame)\n",
    "result_label.grid(row=1, columnspan=3, **options)\n",
    "\n",
    "# add padding to the frame and show it\n",
    "frame.grid(padx=10, pady=10)\n",
    "\n",
    "# start the app\n",
    "root.mainloop()"
   ]
  }
 ],
 "metadata": {
  "interpreter": {
   "hash": "aff35f7389d7e3d9eefdab8d6ee9cbeea8954c45d329bbe62fa514d288e678ef"
  },
  "kernelspec": {
   "display_name": "Python 3.9.5 64-bit",
   "language": "python",
   "name": "python3"
  },
  "language_info": {
   "codemirror_mode": {
    "name": "ipython",
    "version": 3
   },
   "file_extension": ".py",
   "mimetype": "text/x-python",
   "name": "python",
   "nbconvert_exporter": "python",
   "pygments_lexer": "ipython3",
   "version": "3.9.5"
  },
  "orig_nbformat": 4
 },
 "nbformat": 4,
 "nbformat_minor": 2
}
