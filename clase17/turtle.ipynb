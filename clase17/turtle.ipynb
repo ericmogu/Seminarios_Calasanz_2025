{
 "cells": [
  {
   "cell_type": "markdown",
   "metadata": {},
   "source": [
    "# Biblioteca Turtle\n",
    "Es una forma muy habitual de introducción a la programación para niñas y niños. \n",
    "\n",
    "Era parte original del lenguaje de programación Logo, desarrollado por Wally Feurzeig, Seymour Papert y Cynthia Solomon en 1967.\n",
    "\n",
    "[Documentación oficial](https://docs.python.org/3/library/turtle.html)\n",
    "\n",
    "## Instalación\n",
    "```bash\n",
    "pip install turtle\n",
    "```"
   ]
  },
  {
   "cell_type": "code",
   "execution_count": null,
   "metadata": {},
   "outputs": [],
   "source": [
    "import turtle as t"
   ]
  },
  {
   "cell_type": "code",
   "execution_count": null,
   "metadata": {},
   "outputs": [],
   "source": [
    "t.clear()\n",
    "\n",
    "t.color('red', 'yellow')\n",
    "t.begin_fill()\n",
    "while True:\n",
    "    t.forward(200)\n",
    "    t.left(170)\n",
    "    if abs(t.pos()) < 1:\n",
    "        break\n",
    "t.end_fill()"
   ]
  },
  {
   "cell_type": "markdown",
   "metadata": {},
   "source": [
    "## Funciones de tortuga"
   ]
  },
  {
   "cell_type": "markdown",
   "metadata": {},
   "source": [
    "Formas de la tortuga\n",
    "- Square\n",
    "- Arrow\n",
    "- Circle\n",
    "- Turtle\n",
    "- Triangle\n",
    "- Classic"
   ]
  },
  {
   "cell_type": "code",
   "execution_count": null,
   "metadata": {},
   "outputs": [],
   "source": [
    "t.shape(\"turtle\")"
   ]
  },
  {
   "cell_type": "code",
   "execution_count": null,
   "metadata": {},
   "outputs": [],
   "source": [
    "t.shape(\"arrow\")"
   ]
  },
  {
   "cell_type": "code",
   "execution_count": null,
   "metadata": {},
   "outputs": [],
   "source": [
    "t.shape(\"circle\")"
   ]
  },
  {
   "cell_type": "markdown",
   "metadata": {},
   "source": [
    "Levantar o bajar el lápiz"
   ]
  },
  {
   "cell_type": "code",
   "execution_count": null,
   "metadata": {},
   "outputs": [],
   "source": [
    "t.penup()"
   ]
  },
  {
   "cell_type": "code",
   "execution_count": null,
   "metadata": {},
   "outputs": [],
   "source": [
    "t.pendown()"
   ]
  },
  {
   "cell_type": "markdown",
   "metadata": {},
   "source": [
    "Movimiento de la tortuga\n",
    "- forward (fd)\n",
    "- backward (bk)\n",
    "- left (lt)\n",
    "- right (rt)"
   ]
  },
  {
   "cell_type": "code",
   "execution_count": null,
   "metadata": {},
   "outputs": [],
   "source": [
    "t.clear()\n",
    "\n",
    "t.right(90)\n",
    "t.forward(100)\n",
    "t.left(90)\n",
    "t.backward(100)"
   ]
  },
  {
   "cell_type": "code",
   "execution_count": null,
   "metadata": {},
   "outputs": [],
   "source": [
    "t.clear()\n",
    "\n",
    "t.fd(100)\n",
    "t.rt(90)\n",
    "t.fd(100)\n",
    "t.rt(90)\n",
    "t.fd(100)\n",
    "t.rt(90)\n",
    "t.fd(100)"
   ]
  },
  {
   "cell_type": "markdown",
   "metadata": {},
   "source": [
    "Moverse en el lienzo"
   ]
  },
  {
   "cell_type": "code",
   "execution_count": null,
   "metadata": {},
   "outputs": [],
   "source": [
    "t.goto(0, 0)"
   ]
  },
  {
   "cell_type": "markdown",
   "metadata": {},
   "source": [
    "Imprimiendo figuras preestablecidas"
   ]
  },
  {
   "cell_type": "code",
   "execution_count": null,
   "metadata": {},
   "outputs": [],
   "source": [
    "t.clear()\n",
    "\n",
    "t.circle(60)"
   ]
  },
  {
   "cell_type": "code",
   "execution_count": null,
   "metadata": {},
   "outputs": [],
   "source": [
    "t.dot(20)"
   ]
  },
  {
   "cell_type": "markdown",
   "metadata": {},
   "source": [
    "Cambiando color del fondo"
   ]
  },
  {
   "cell_type": "code",
   "execution_count": null,
   "metadata": {},
   "outputs": [],
   "source": [
    "t.bgcolor(\"blue\")"
   ]
  },
  {
   "cell_type": "markdown",
   "metadata": {},
   "source": [
    "Cambiando el color de gráfica"
   ]
  },
  {
   "cell_type": "code",
   "execution_count": null,
   "metadata": {},
   "outputs": [],
   "source": [
    "t.fillcolor(\"red\")"
   ]
  },
  {
   "cell_type": "code",
   "execution_count": null,
   "metadata": {},
   "outputs": [],
   "source": [
    "t.pencolor(\"green\")"
   ]
  },
  {
   "cell_type": "code",
   "execution_count": null,
   "metadata": {},
   "outputs": [],
   "source": [
    "# Las dos al tiempo\n",
    "t.color(\"green\", \"red\")"
   ]
  },
  {
   "cell_type": "markdown",
   "metadata": {},
   "source": [
    "Rellenando una imagen"
   ]
  },
  {
   "cell_type": "code",
   "execution_count": null,
   "metadata": {},
   "outputs": [],
   "source": [
    "t.clear()\n",
    "\n",
    "t.begin_fill()\n",
    "t.fd(100)\n",
    "t.lt(120)\n",
    "t.fd(100)\n",
    "t.lt(120)\n",
    "t.fd(100)\n",
    "t.end_fill()"
   ]
  },
  {
   "cell_type": "markdown",
   "metadata": {},
   "source": [
    "# Ejemplos"
   ]
  },
  {
   "cell_type": "code",
   "execution_count": null,
   "metadata": {},
   "outputs": [],
   "source": [
    "t.clear()\n",
    "\n",
    "t.color(\"blue\")  \n",
    "for i in range(20, 100, 10):  \n",
    "    t.circle(i)  "
   ]
  },
  {
   "cell_type": "code",
   "execution_count": null,
   "metadata": {},
   "outputs": [],
   "source": [
    "t.clear()\n",
    "\n",
    "t.bgcolor(\"black\")  \n",
    "t.pensize(2)  \n",
    "t.speed(0)  \n",
    "  \n",
    "while (True):  \n",
    "    for i in range(6):  \n",
    "        for colors in [\"red\", \"blue\", \"magenta\", \"green\", \"yellow\", \"white\"]:  \n",
    "            t.color(colors)  \n",
    "            t.circle(100)  \n",
    "            t.left(10)  "
   ]
  },
  {
   "cell_type": "code",
   "execution_count": null,
   "metadata": {},
   "outputs": [],
   "source": [
    "t.clear()\n",
    "\n",
    "t.bgcolor(\"black\")  \n",
    "t.pencolor(\"red\")  \n",
    "  \n",
    "a = 0  \n",
    "b = 0  \n",
    "t.speed(0)  \n",
    "t.penup()  \n",
    "t.goto(0,0)  \n",
    "t.pendown()  \n",
    "while(True):  \n",
    "    t.forward(a)  \n",
    "    t.right(b)  \n",
    "    a+=3  \n",
    "    b+=1  \n",
    "    if b == 210:  \n",
    "        break \n",
    "\n",
    "t.done()"
   ]
  },
  {
   "cell_type": "code",
   "execution_count": null,
   "metadata": {},
   "outputs": [],
   "source": [
    "t.clear()\n",
    "\n",
    "t.bgcolor(\"black\")  \n",
    "  \n",
    "t.pensize(2)  \n",
    "  \n",
    "# To design curve  \n",
    "def curve():  \n",
    "    for i in range(200):  \n",
    "        t.right(1)  \n",
    "        t.forward(1)  \n",
    "  \n",
    "t.speed(3)  \n",
    "t.color(\"red\", \"pink\")  \n",
    "  \n",
    "t.begin_fill()  \n",
    "t.left(140)  \n",
    "t.forward(111.65)  \n",
    "curve()  \n",
    "  \n",
    "t.left(120)  \n",
    "curve()  \n",
    "t.forward(111.65)  \n",
    "t.end_fill()  "
   ]
  }
 ],
 "metadata": {
  "interpreter": {
   "hash": "aff35f7389d7e3d9eefdab8d6ee9cbeea8954c45d329bbe62fa514d288e678ef"
  },
  "kernelspec": {
   "display_name": "Python 3.9.5 64-bit",
   "language": "python",
   "name": "python3"
  },
  "language_info": {
   "codemirror_mode": {
    "name": "ipython",
    "version": 3
   },
   "file_extension": ".py",
   "mimetype": "text/x-python",
   "name": "python",
   "nbconvert_exporter": "python",
   "pygments_lexer": "ipython3",
   "version": "3.9.5"
  },
  "orig_nbformat": 4
 },
 "nbformat": 4,
 "nbformat_minor": 2
}
